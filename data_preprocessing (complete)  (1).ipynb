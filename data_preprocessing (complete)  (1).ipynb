{
 "cells":[
  {
   "cell_type":"markdown",
   "source":[
    "## Data Preprocessing Examples\n",
    "\n",
    " In this task, we will work on handling missing data as well as data standardisation and normalisation. Data can have missing values for a number of reasons, such as observations that were not collected or data corruption. We will discuss some general considerations for missing data, discuss how pandas chooses to represent it, and demonstrate some built-in pandas tools for handling missing data in Python. "
   ],
   "attachments":{
    
   },
   "metadata":{
    "datalore":{
     "node_id":"SNuPFWZa5zYVmYTnhIFh6A",
     "type":"MD",
     "hide_input_from_viewers":false,
     "hide_output_from_viewers":false,
     "report_properties":{
      "rowId":"9e21OnvDDNa4brGWZGrXzJ"
     }
    }
   }
  },
  {
   "cell_type":"code",
   "source":[
    "import pandas as pd\n",
    "import numpy as np\n",
    "\n",
    "# Scaling modules\n",
    "from mlxtend.preprocessing import minmax_scaling, standardize\n",
    "\n",
    "# Plotting modules\n",
    "import seaborn as sns\n",
    "import matplotlib.pyplot as plt\n",
    "\n",
    "# Ensures the same random data is used each time you execute the code\n",
    "np.random.seed(0) "
   ],
   "execution_count":2,
   "outputs":[
    
   ],
   "metadata":{
    "datalore":{
     "node_id":"GsJChLHjuTIQE6IFfRbRfX",
     "type":"CODE",
     "hide_input_from_viewers":false,
     "hide_output_from_viewers":false,
     "report_properties":{
      "rowId":"EMa5eWkwNoS9e4Seb56m7p"
     }
    }
   }
  },
  {
   "cell_type":"code",
   "source":[
    "# Read in data \n",
    "df = pd.read_csv('balance_missing.txt', delim_whitespace=True)"
   ],
   "execution_count":3,
   "outputs":[
    
   ],
   "metadata":{
    "datalore":{
     "node_id":"3cuyDLiuDlA7uIFrjqgYip",
     "type":"CODE",
     "hide_input_from_viewers":false,
     "hide_output_from_viewers":false,
     "report_properties":{
      "rowId":"QX38AymndMqWu3U8A8MkN4"
     }
    }
   }
  },
  {
   "cell_type":"markdown",
   "source":[
    "## Working with missing data\n",
    "### Take a first look at the data\n",
    "This should always be the first step during any analysis. Depending on data sources, missing data are identified differently. Pandas identifies missing values as NaN. However, missing values can appear as a question mark (?) or a zero (0) or minus one (-1) or a blank. So it is important to view and understand your data before anything else.\n",
    "\n",
    "We are going to use the dataset `balance_missing.txt`. From the first five observations, we can see there are several missing values. They have been represented as NaN."
   ],
   "attachments":{
    
   },
   "metadata":{
    "datalore":{
     "node_id":"GigVd9w6KqzOcNF7vD2K9h",
     "type":"MD",
     "hide_input_from_viewers":false,
     "hide_output_from_viewers":false,
     "report_properties":{
      "rowId":"N0ZouEqWtMEoBCnAvdSaXU"
     }
    }
   }
  },
  {
   "cell_type":"code",
   "source":[
    "# Explore data\n",
    "df.shape"
   ],
   "execution_count":4,
   "outputs":[
    {
     "data":{
      "text\/plain":[
       "(400, 11)"
      ]
     },
     "metadata":{
      
     },
     "output_type":"display_data"
    }
   ],
   "metadata":{
    "datalore":{
     "node_id":"mVLH9gYjZJcLPJoXgG8lEj",
     "type":"CODE",
     "hide_input_from_viewers":false,
     "hide_output_from_viewers":false,
     "report_properties":{
      "rowId":"gPvxdVz1gb2emBnRrVc4UQ"
     }
    }
   }
  },
  {
   "cell_type":"code",
   "source":[
    "df.head()"
   ],
   "execution_count":5,
   "outputs":[
    {
     "data":{
      "text\/html":[
       "<div>\n",
       "<style scoped>\n",
       "    .dataframe tbody tr th:only-of-type {\n",
       "        vertical-align: middle;\n",
       "    }\n",
       "\n",
       "    .dataframe tbody tr th {\n",
       "        vertical-align: top;\n",
       "    }\n",
       "\n",
       "    .dataframe thead th {\n",
       "        text-align: right;\n",
       "    }\n",
       "<\/style>\n",
       "<table border=\"1\" class=\"dataframe\">\n",
       "  <thead>\n",
       "    <tr style=\"text-align: right;\">\n",
       "      <th><\/th>\n",
       "      <th>Balance<\/th>\n",
       "      <th>Income<\/th>\n",
       "      <th>Limit<\/th>\n",
       "      <th>Rating<\/th>\n",
       "      <th>Cards<\/th>\n",
       "      <th>Age<\/th>\n",
       "      <th>Education<\/th>\n",
       "      <th>Gender<\/th>\n",
       "      <th>Student<\/th>\n",
       "      <th>Married<\/th>\n",
       "      <th>Ethnicity<\/th>\n",
       "    <\/tr>\n",
       "  <\/thead>\n",
       "  <tbody>\n",
       "    <tr>\n",
       "      <th>0<\/th>\n",
       "      <td>12.2407984760474<\/td>\n",
       "      <td>14.891<\/td>\n",
       "      <td>3606<\/td>\n",
       "      <td>283.0<\/td>\n",
       "      <td>2.0<\/td>\n",
       "      <td>NaN<\/td>\n",
       "      <td>11.0<\/td>\n",
       "      <td>Male<\/td>\n",
       "      <td>No<\/td>\n",
       "      <td>Yes<\/td>\n",
       "      <td>Caucasian<\/td>\n",
       "    <\/tr>\n",
       "    <tr>\n",
       "      <th>1<\/th>\n",
       "      <td>23.2833339223376<\/td>\n",
       "      <td>NaN<\/td>\n",
       "      <td>6645<\/td>\n",
       "      <td>483.0<\/td>\n",
       "      <td>3.0<\/td>\n",
       "      <td>82.0<\/td>\n",
       "      <td>15.0<\/td>\n",
       "      <td>Female<\/td>\n",
       "      <td>NaN<\/td>\n",
       "      <td>Yes<\/td>\n",
       "      <td>Asian<\/td>\n",
       "    <\/tr>\n",
       "    <tr>\n",
       "      <th>2<\/th>\n",
       "      <td>22.5304088790893<\/td>\n",
       "      <td>104.593<\/td>\n",
       "      <td>7075<\/td>\n",
       "      <td>NaN<\/td>\n",
       "      <td>4.0<\/td>\n",
       "      <td>71.0<\/td>\n",
       "      <td>11.0<\/td>\n",
       "      <td>Male<\/td>\n",
       "      <td>No<\/td>\n",
       "      <td>No<\/td>\n",
       "      <td>Asian<\/td>\n",
       "    <\/tr>\n",
       "    <tr>\n",
       "      <th>3<\/th>\n",
       "      <td>27.652810710665<\/td>\n",
       "      <td>148.924<\/td>\n",
       "      <td>9504<\/td>\n",
       "      <td>681.0<\/td>\n",
       "      <td>3.0<\/td>\n",
       "      <td>36.0<\/td>\n",
       "      <td>11.0<\/td>\n",
       "      <td>NaN<\/td>\n",
       "      <td>No<\/td>\n",
       "      <td>No<\/td>\n",
       "      <td>Asian<\/td>\n",
       "    <\/tr>\n",
       "    <tr>\n",
       "      <th>4<\/th>\n",
       "      <td>16.8939784904888<\/td>\n",
       "      <td>55.882<\/td>\n",
       "      <td>4897<\/td>\n",
       "      <td>357.0<\/td>\n",
       "      <td>2.0<\/td>\n",
       "      <td>68.0<\/td>\n",
       "      <td>16.0<\/td>\n",
       "      <td>Male<\/td>\n",
       "      <td>No<\/td>\n",
       "      <td>Yes<\/td>\n",
       "      <td>Caucasian<\/td>\n",
       "    <\/tr>\n",
       "  <\/tbody>\n",
       "<\/table>\n",
       "<\/div>"
      ]
     },
     "metadata":{
      
     },
     "output_type":"display_data"
    }
   ],
   "metadata":{
    "datalore":{
     "node_id":"iRAk9DazySh1x1V8yPinmq",
     "type":"CODE",
     "hide_input_from_viewers":false,
     "hide_output_from_viewers":false,
     "report_properties":{
      "rowId":"L3yam3zz5oxwMM8R6Z9kWa"
     }
    }
   }
  },
  {
   "cell_type":"markdown",
   "source":[
    "How many NaN values can you point out?\n",
    "\n",
    "Now that we have seen that there are missing values, we need to get a sense of how many missing values exist in the whole dataset. We are going to find how many missing values we have in each column."
   ],
   "attachments":{
    
   },
   "metadata":{
    "datalore":{
     "node_id":"x0a2agxYLXFPszk2H3ErEB",
     "type":"MD",
     "hide_input_from_viewers":false,
     "hide_output_from_viewers":false,
     "report_properties":{
      "rowId":"Gyvx67TiWSRJN1gzcxbe3j"
     }
    }
   }
  },
  {
   "cell_type":"code",
   "source":[
    "# Get the number of missing data points per column\n",
    "missing_values_count = df.isnull().sum()\n",
    "\n",
    "# Look at the number of missing points in the first ten columns\n",
    "missing_values_count[0:10]"
   ],
   "execution_count":6,
   "outputs":[
    {
     "data":{
      "text\/html":[
       "<pre>Balance       0\n",
       "Income        6\n",
       "Limit        15\n",
       "Rating       11\n",
       "Cards         1\n",
       "Age          10\n",
       "Education     6\n",
       "Gender        8\n",
       "Student       7\n",
       "Married       3\n",
       "dtype: int64<\/pre>"
      ]
     },
     "metadata":{
      
     },
     "output_type":"display_data"
    }
   ],
   "metadata":{
    "datalore":{
     "node_id":"98LvpJsWmojky8oSQBlRDy",
     "type":"CODE",
     "hide_input_from_viewers":false,
     "hide_output_from_viewers":false,
     "report_properties":{
      "rowId":"Bkzb6tbpA5sI6rxHe7aIzf"
     }
    }
   }
  },
  {
   "cell_type":"markdown",
   "source":[
    "To better understand how much data is missing, we can calculate the percentage of all the missing values. If we get a very high percentage, we may be unable to use the data."
   ],
   "attachments":{
    
   },
   "metadata":{
    "datalore":{
     "node_id":"JOEpQEkvg3NEpEp7Rl7VVD",
     "type":"MD",
     "hide_input_from_viewers":false,
     "hide_output_from_viewers":false,
     "report_properties":{
      "rowId":"MmMpZhAR5PlDqz9biZnm0x"
     }
    }
   }
  },
  {
   "cell_type":"code",
   "source":[
    "# Total number of missing values\n",
    "total_cells = np.product(df.shape)\n",
    "total_missing = missing_values_count.sum()\n",
    "\n",
    "# Percent of data that is missing\n",
    "(total_missing\/total_cells) * 100"
   ],
   "execution_count":7,
   "outputs":[
    {
     "data":{
      "text\/plain":[
       "1.7727272727272727"
      ]
     },
     "metadata":{
      
     },
     "output_type":"display_data"
    }
   ],
   "metadata":{
    "datalore":{
     "node_id":"GvOGlunB0dPdkftodPDIaH",
     "type":"CODE",
     "hide_input_from_viewers":false,
     "hide_output_from_viewers":false,
     "report_properties":{
      "rowId":"4eQQBaGXKOTQ3nagwVEvo3"
     }
    }
   }
  },
  {
   "cell_type":"markdown",
   "source":[
    "Only 1.77% of the values are missing. \n",
    "\n",
    "### Drop missing values\n",
    "\n",
    "One option to deal with missing values is to remove any rows or columns that contain missing values. This strategy is not recommended for datasets with important data, sensitive data, or few observations. It's usually worth taking the time to go through your data and interrogate all the columns with missing values to get a proper understanding of your dataset.\n",
    "\n",
    "If you're sure you want to drop rows with missing values, pandas has a handy function, `dropna()` to do this. Let's try it out on our data."
   ],
   "attachments":{
    
   },
   "metadata":{
    "datalore":{
     "node_id":"fgxfnRX1x8Co7wWoFZmiIX",
     "type":"MD",
     "hide_input_from_viewers":false,
     "hide_output_from_viewers":false,
     "report_properties":{
      "rowId":"NkrxZbSalZWinloIxqLOgb"
     }
    }
   }
  },
  {
   "cell_type":"code",
   "source":[
    "# Create a temporary dataframe\n",
    "temp_df = df\n",
    "\n",
    "# Remove all the rows that contain a missing value.\n",
    "temp_df.dropna().head()"
   ],
   "execution_count":8,
   "outputs":[
    {
     "data":{
      "text\/html":[
       "<div>\n",
       "<style scoped>\n",
       "    .dataframe tbody tr th:only-of-type {\n",
       "        vertical-align: middle;\n",
       "    }\n",
       "\n",
       "    .dataframe tbody tr th {\n",
       "        vertical-align: top;\n",
       "    }\n",
       "\n",
       "    .dataframe thead th {\n",
       "        text-align: right;\n",
       "    }\n",
       "<\/style>\n",
       "<table border=\"1\" class=\"dataframe\">\n",
       "  <thead>\n",
       "    <tr style=\"text-align: right;\">\n",
       "      <th><\/th>\n",
       "      <th>Balance<\/th>\n",
       "      <th>Income<\/th>\n",
       "      <th>Limit<\/th>\n",
       "      <th>Rating<\/th>\n",
       "      <th>Cards<\/th>\n",
       "      <th>Age<\/th>\n",
       "      <th>Education<\/th>\n",
       "      <th>Gender<\/th>\n",
       "      <th>Student<\/th>\n",
       "      <th>Married<\/th>\n",
       "      <th>Ethnicity<\/th>\n",
       "    <\/tr>\n",
       "  <\/thead>\n",
       "  <tbody>\n",
       "    <tr>\n",
       "      <th>4<\/th>\n",
       "      <td>16.8939784904888<\/td>\n",
       "      <td>55.882<\/td>\n",
       "      <td>4897<\/td>\n",
       "      <td>357.0<\/td>\n",
       "      <td>2.0<\/td>\n",
       "      <td>68.0<\/td>\n",
       "      <td>16.0<\/td>\n",
       "      <td>Male<\/td>\n",
       "      <td>No<\/td>\n",
       "      <td>Yes<\/td>\n",
       "      <td>Caucasian<\/td>\n",
       "    <\/tr>\n",
       "    <tr>\n",
       "      <th>5<\/th>\n",
       "      <td>22.4861776123913<\/td>\n",
       "      <td>80.18<\/td>\n",
       "      <td>8047<\/td>\n",
       "      <td>569.0<\/td>\n",
       "      <td>4.0<\/td>\n",
       "      <td>77.0<\/td>\n",
       "      <td>10.0<\/td>\n",
       "      <td>Male<\/td>\n",
       "      <td>No<\/td>\n",
       "      <td>No<\/td>\n",
       "      <td>Caucasian<\/td>\n",
       "    <\/tr>\n",
       "    <tr>\n",
       "      <th>6<\/th>\n",
       "      <td>10.5745164367595<\/td>\n",
       "      <td>20.996<\/td>\n",
       "      <td>3388<\/td>\n",
       "      <td>259.0<\/td>\n",
       "      <td>2.0<\/td>\n",
       "      <td>37.0<\/td>\n",
       "      <td>12.0<\/td>\n",
       "      <td>Female<\/td>\n",
       "      <td>No<\/td>\n",
       "      <td>No<\/td>\n",
       "      <td>African American<\/td>\n",
       "    <\/tr>\n",
       "    <tr>\n",
       "      <th>7<\/th>\n",
       "      <td>14.5762043512884<\/td>\n",
       "      <td>71.408<\/td>\n",
       "      <td>7114<\/td>\n",
       "      <td>512.0<\/td>\n",
       "      <td>2.0<\/td>\n",
       "      <td>87.0<\/td>\n",
       "      <td>9.0<\/td>\n",
       "      <td>Male<\/td>\n",
       "      <td>No<\/td>\n",
       "      <td>No<\/td>\n",
       "      <td>Asian<\/td>\n",
       "    <\/tr>\n",
       "    <tr>\n",
       "      <th>8<\/th>\n",
       "      <td>7.93809029500252<\/td>\n",
       "      <td>15.125<\/td>\n",
       "      <td>3300<\/td>\n",
       "      <td>266.0<\/td>\n",
       "      <td>5.0<\/td>\n",
       "      <td>66.0<\/td>\n",
       "      <td>13.0<\/td>\n",
       "      <td>Female<\/td>\n",
       "      <td>No<\/td>\n",
       "      <td>No<\/td>\n",
       "      <td>Caucasian<\/td>\n",
       "    <\/tr>\n",
       "  <\/tbody>\n",
       "<\/table>\n",
       "<\/div>"
      ]
     },
     "metadata":{
      
     },
     "output_type":"display_data"
    }
   ],
   "metadata":{
    "datalore":{
     "node_id":"EaO8RAjRZDHDIJiOZyzKgK",
     "type":"CODE",
     "hide_input_from_viewers":false,
     "hide_output_from_viewers":false,
     "report_properties":{
      "rowId":"BvayjjcCZ2H3Ga6ivHtvjD"
     }
    }
   }
  },
  {
   "cell_type":"markdown",
   "source":[
    "As you can see, there are no longer NaN values in the first five observations as these have been dropped from the DataFrame. In fact, all observations with a NaN value in any of the columns have been dropped. Below you can see the number of rows has been reduced to 331 compared to 400 in the original dataset."
   ],
   "attachments":{
    
   },
   "metadata":{
    "datalore":{
     "node_id":"MbKLUyMpXveWTtHKjjyzMb",
     "type":"MD",
     "hide_input_from_viewers":false,
     "hide_output_from_viewers":false,
     "report_properties":{
      "rowId":"cWWfJxHrgaULzi5vrBVqPE"
     }
    }
   }
  },
  {
   "cell_type":"code",
   "source":[
    "temp_df.dropna().shape"
   ],
   "execution_count":9,
   "outputs":[
    {
     "data":{
      "text\/plain":[
       "(331, 11)"
      ]
     },
     "metadata":{
      
     },
     "output_type":"display_data"
    }
   ],
   "metadata":{
    "datalore":{
     "node_id":"RNYWYKq5hkGSFqpow174dQ",
     "type":"CODE",
     "hide_input_from_viewers":false,
     "hide_output_from_viewers":false,
     "report_properties":{
      "rowId":"iWwbTHVGM308AXpvEx46wg"
     }
    }
   }
  },
  {
   "cell_type":"markdown",
   "source":[
    "The above procedure removed observations. Now let us look at removing columns."
   ],
   "attachments":{
    
   },
   "metadata":{
    "datalore":{
     "node_id":"MTAFH6a6QRPnc0g5nkqYVN",
     "type":"MD",
     "hide_input_from_viewers":false,
     "hide_output_from_viewers":false,
     "report_properties":{
      "rowId":"9pR9XwzDcYJ6pA4Eh6vjAi"
     }
    }
   }
  },
  {
   "cell_type":"code",
   "source":[
    "# Create a temporary dataframe\n",
    "temp_df = df\n",
    "\n",
    "# Remove all columns with at least one missing value\n",
    "columns_with_na_dropped = temp_df.dropna(axis=1)\n",
    "columns_with_na_dropped.head()"
   ],
   "execution_count":10,
   "outputs":[
    {
     "data":{
      "text\/html":[
       "<div>\n",
       "<style scoped>\n",
       "    .dataframe tbody tr th:only-of-type {\n",
       "        vertical-align: middle;\n",
       "    }\n",
       "\n",
       "    .dataframe tbody tr th {\n",
       "        vertical-align: top;\n",
       "    }\n",
       "\n",
       "    .dataframe thead th {\n",
       "        text-align: right;\n",
       "    }\n",
       "<\/style>\n",
       "<table border=\"1\" class=\"dataframe\">\n",
       "  <thead>\n",
       "    <tr style=\"text-align: right;\">\n",
       "      <th><\/th>\n",
       "      <th>Balance<\/th>\n",
       "    <\/tr>\n",
       "  <\/thead>\n",
       "  <tbody>\n",
       "    <tr>\n",
       "      <th>0<\/th>\n",
       "      <td>12.2407984760474<\/td>\n",
       "    <\/tr>\n",
       "    <tr>\n",
       "      <th>1<\/th>\n",
       "      <td>23.2833339223376<\/td>\n",
       "    <\/tr>\n",
       "    <tr>\n",
       "      <th>2<\/th>\n",
       "      <td>22.5304088790893<\/td>\n",
       "    <\/tr>\n",
       "    <tr>\n",
       "      <th>3<\/th>\n",
       "      <td>27.652810710665<\/td>\n",
       "    <\/tr>\n",
       "    <tr>\n",
       "      <th>4<\/th>\n",
       "      <td>16.8939784904888<\/td>\n",
       "    <\/tr>\n",
       "  <\/tbody>\n",
       "<\/table>\n",
       "<\/div>"
      ]
     },
     "metadata":{
      
     },
     "output_type":"display_data"
    }
   ],
   "metadata":{
    "datalore":{
     "node_id":"FhpdmC11k3IVyWpJ4Liw21",
     "type":"CODE",
     "hide_input_from_viewers":false,
     "hide_output_from_viewers":false,
     "report_properties":{
      "rowId":"LU3yzGsnLhmsAGzG3iSS7P"
     }
    }
   }
  },
  {
   "cell_type":"markdown",
   "source":[
    "Looks like all the columns had at least one missing value except the \"Balance\" column. Losing all columns but one reduces the amount of data you have drastically. This is one of the reasons why removing observations or columns with missing data may not be a good solution. We'll explore other options next."
   ],
   "attachments":{
    
   },
   "metadata":{
    "datalore":{
     "node_id":"Gr7vXPZklLSVGmS58DlrvE",
     "type":"MD",
     "hide_input_from_viewers":false,
     "hide_output_from_viewers":false,
     "report_properties":{
      "rowId":"Rh0PLuzxEvMeVYxhuscHu4"
     }
    }
   }
  },
  {
   "cell_type":"markdown",
   "source":[
    "### Filling in missing values automatically\n",
    "\n",
    "We can use the pandas `fillna()` function to fill in missing values in a dataframe. One option is to specify what we want the NaN values to be replaced with. Here, we can replace all NaN with 0. "
   ],
   "attachments":{
    
   },
   "metadata":{
    "datalore":{
     "node_id":"YtOzQ3CVhAuFiKJ928Iycx",
     "type":"MD",
     "hide_input_from_viewers":false,
     "hide_output_from_viewers":false,
     "report_properties":{
      "rowId":"99Y0dMK394VrEkw1ZFEDTi"
     }
    }
   }
  },
  {
   "cell_type":"code",
   "source":[
    "# Create a temporary dataframe\n",
    "temp_df = df\n",
    "\n",
    "# replace all NA's with 0\n",
    "temp_df.fillna(0).head()"
   ],
   "execution_count":11,
   "outputs":[
    {
     "data":{
      "text\/html":[
       "<div>\n",
       "<style scoped>\n",
       "    .dataframe tbody tr th:only-of-type {\n",
       "        vertical-align: middle;\n",
       "    }\n",
       "\n",
       "    .dataframe tbody tr th {\n",
       "        vertical-align: top;\n",
       "    }\n",
       "\n",
       "    .dataframe thead th {\n",
       "        text-align: right;\n",
       "    }\n",
       "<\/style>\n",
       "<table border=\"1\" class=\"dataframe\">\n",
       "  <thead>\n",
       "    <tr style=\"text-align: right;\">\n",
       "      <th><\/th>\n",
       "      <th>Balance<\/th>\n",
       "      <th>Income<\/th>\n",
       "      <th>Limit<\/th>\n",
       "      <th>Rating<\/th>\n",
       "      <th>Cards<\/th>\n",
       "      <th>Age<\/th>\n",
       "      <th>Education<\/th>\n",
       "      <th>Gender<\/th>\n",
       "      <th>Student<\/th>\n",
       "      <th>Married<\/th>\n",
       "      <th>Ethnicity<\/th>\n",
       "    <\/tr>\n",
       "  <\/thead>\n",
       "  <tbody>\n",
       "    <tr>\n",
       "      <th>0<\/th>\n",
       "      <td>12.2407984760474<\/td>\n",
       "      <td>14.891<\/td>\n",
       "      <td>3606<\/td>\n",
       "      <td>283.0<\/td>\n",
       "      <td>2.0<\/td>\n",
       "      <td>0.0<\/td>\n",
       "      <td>11.0<\/td>\n",
       "      <td>Male<\/td>\n",
       "      <td>No<\/td>\n",
       "      <td>Yes<\/td>\n",
       "      <td>Caucasian<\/td>\n",
       "    <\/tr>\n",
       "    <tr>\n",
       "      <th>1<\/th>\n",
       "      <td>23.2833339223376<\/td>\n",
       "      <td>0<\/td>\n",
       "      <td>6645<\/td>\n",
       "      <td>483.0<\/td>\n",
       "      <td>3.0<\/td>\n",
       "      <td>82.0<\/td>\n",
       "      <td>15.0<\/td>\n",
       "      <td>Female<\/td>\n",
       "      <td>0<\/td>\n",
       "      <td>Yes<\/td>\n",
       "      <td>Asian<\/td>\n",
       "    <\/tr>\n",
       "    <tr>\n",
       "      <th>2<\/th>\n",
       "      <td>22.5304088790893<\/td>\n",
       "      <td>104.593<\/td>\n",
       "      <td>7075<\/td>\n",
       "      <td>0.0<\/td>\n",
       "      <td>4.0<\/td>\n",
       "      <td>71.0<\/td>\n",
       "      <td>11.0<\/td>\n",
       "      <td>Male<\/td>\n",
       "      <td>No<\/td>\n",
       "      <td>No<\/td>\n",
       "      <td>Asian<\/td>\n",
       "    <\/tr>\n",
       "    <tr>\n",
       "      <th>3<\/th>\n",
       "      <td>27.652810710665<\/td>\n",
       "      <td>148.924<\/td>\n",
       "      <td>9504<\/td>\n",
       "      <td>681.0<\/td>\n",
       "      <td>3.0<\/td>\n",
       "      <td>36.0<\/td>\n",
       "      <td>11.0<\/td>\n",
       "      <td>0<\/td>\n",
       "      <td>No<\/td>\n",
       "      <td>No<\/td>\n",
       "      <td>Asian<\/td>\n",
       "    <\/tr>\n",
       "    <tr>\n",
       "      <th>4<\/th>\n",
       "      <td>16.8939784904888<\/td>\n",
       "      <td>55.882<\/td>\n",
       "      <td>4897<\/td>\n",
       "      <td>357.0<\/td>\n",
       "      <td>2.0<\/td>\n",
       "      <td>68.0<\/td>\n",
       "      <td>16.0<\/td>\n",
       "      <td>Male<\/td>\n",
       "      <td>No<\/td>\n",
       "      <td>Yes<\/td>\n",
       "      <td>Caucasian<\/td>\n",
       "    <\/tr>\n",
       "  <\/tbody>\n",
       "<\/table>\n",
       "<\/div>"
      ]
     },
     "metadata":{
      
     },
     "output_type":"display_data"
    }
   ],
   "metadata":{
    "datalore":{
     "node_id":"uCHi5dFlGgj4UicohPzknR",
     "type":"CODE",
     "hide_input_from_viewers":false,
     "hide_output_from_viewers":false,
     "report_properties":{
      "rowId":"PVnAJlYdffHH9ApeKRy5dw"
     }
    }
   }
  },
  {
   "cell_type":"markdown",
   "source":[
    "Another option is to replace the missing values with the values that come just before or just after it in the same column. This can be used in datasets where the observations are in some sorted or logical order."
   ],
   "attachments":{
    
   },
   "metadata":{
    "datalore":{
     "node_id":"eSc0ojDe0RX8ov0orMCZz4",
     "type":"MD",
     "hide_input_from_viewers":false,
     "hide_output_from_viewers":false,
     "report_properties":{
      "rowId":"gK69N1fRdxaCjCPMbhmvY6"
     }
    }
   }
  },
  {
   "cell_type":"code",
   "source":[
    "# Create a temporary dataframe\n",
    "temp_df = df\n",
    "\n",
    "# Replace all NaN's with the value that comes directly after it in the same column, \n",
    "# then replace all the remaining NaN's with 0\n",
    "temp_df.fillna(method = 'bfill', axis=0).fillna(0).head()"
   ],
   "execution_count":12,
   "outputs":[
    {
     "data":{
      "text\/html":[
       "<div>\n",
       "<style scoped>\n",
       "    .dataframe tbody tr th:only-of-type {\n",
       "        vertical-align: middle;\n",
       "    }\n",
       "\n",
       "    .dataframe tbody tr th {\n",
       "        vertical-align: top;\n",
       "    }\n",
       "\n",
       "    .dataframe thead th {\n",
       "        text-align: right;\n",
       "    }\n",
       "<\/style>\n",
       "<table border=\"1\" class=\"dataframe\">\n",
       "  <thead>\n",
       "    <tr style=\"text-align: right;\">\n",
       "      <th><\/th>\n",
       "      <th>Balance<\/th>\n",
       "      <th>Income<\/th>\n",
       "      <th>Limit<\/th>\n",
       "      <th>Rating<\/th>\n",
       "      <th>Cards<\/th>\n",
       "      <th>Age<\/th>\n",
       "      <th>Education<\/th>\n",
       "      <th>Gender<\/th>\n",
       "      <th>Student<\/th>\n",
       "      <th>Married<\/th>\n",
       "      <th>Ethnicity<\/th>\n",
       "    <\/tr>\n",
       "  <\/thead>\n",
       "  <tbody>\n",
       "    <tr>\n",
       "      <th>0<\/th>\n",
       "      <td>12.2407984760474<\/td>\n",
       "      <td>14.891<\/td>\n",
       "      <td>3606<\/td>\n",
       "      <td>283.0<\/td>\n",
       "      <td>2.0<\/td>\n",
       "      <td>82.0<\/td>\n",
       "      <td>11.0<\/td>\n",
       "      <td>Male<\/td>\n",
       "      <td>No<\/td>\n",
       "      <td>Yes<\/td>\n",
       "      <td>Caucasian<\/td>\n",
       "    <\/tr>\n",
       "    <tr>\n",
       "      <th>1<\/th>\n",
       "      <td>23.2833339223376<\/td>\n",
       "      <td>104.593<\/td>\n",
       "      <td>6645<\/td>\n",
       "      <td>483.0<\/td>\n",
       "      <td>3.0<\/td>\n",
       "      <td>82.0<\/td>\n",
       "      <td>15.0<\/td>\n",
       "      <td>Female<\/td>\n",
       "      <td>No<\/td>\n",
       "      <td>Yes<\/td>\n",
       "      <td>Asian<\/td>\n",
       "    <\/tr>\n",
       "    <tr>\n",
       "      <th>2<\/th>\n",
       "      <td>22.5304088790893<\/td>\n",
       "      <td>104.593<\/td>\n",
       "      <td>7075<\/td>\n",
       "      <td>681.0<\/td>\n",
       "      <td>4.0<\/td>\n",
       "      <td>71.0<\/td>\n",
       "      <td>11.0<\/td>\n",
       "      <td>Male<\/td>\n",
       "      <td>No<\/td>\n",
       "      <td>No<\/td>\n",
       "      <td>Asian<\/td>\n",
       "    <\/tr>\n",
       "    <tr>\n",
       "      <th>3<\/th>\n",
       "      <td>27.652810710665<\/td>\n",
       "      <td>148.924<\/td>\n",
       "      <td>9504<\/td>\n",
       "      <td>681.0<\/td>\n",
       "      <td>3.0<\/td>\n",
       "      <td>36.0<\/td>\n",
       "      <td>11.0<\/td>\n",
       "      <td>Male<\/td>\n",
       "      <td>No<\/td>\n",
       "      <td>No<\/td>\n",
       "      <td>Asian<\/td>\n",
       "    <\/tr>\n",
       "    <tr>\n",
       "      <th>4<\/th>\n",
       "      <td>16.8939784904888<\/td>\n",
       "      <td>55.882<\/td>\n",
       "      <td>4897<\/td>\n",
       "      <td>357.0<\/td>\n",
       "      <td>2.0<\/td>\n",
       "      <td>68.0<\/td>\n",
       "      <td>16.0<\/td>\n",
       "      <td>Male<\/td>\n",
       "      <td>No<\/td>\n",
       "      <td>Yes<\/td>\n",
       "      <td>Caucasian<\/td>\n",
       "    <\/tr>\n",
       "  <\/tbody>\n",
       "<\/table>\n",
       "<\/div>"
      ]
     },
     "metadata":{
      
     },
     "output_type":"display_data"
    }
   ],
   "metadata":{
    "datalore":{
     "node_id":"iSCcNB7UwBCcEEIqVHlaux",
     "type":"CODE",
     "hide_input_from_viewers":false,
     "hide_output_from_viewers":false,
     "report_properties":{
      "rowId":"wXhGh3uhwtz1q9lme1veLE"
     }
    }
   }
  },
  {
   "cell_type":"markdown",
   "source":[
    "### Feature Scaling Recap\n",
    "Recall feature scaling is the process of restricting the values in a particular feature to ensure that all features lie on the same scale. There are two main types of feature scaling: standardisation and normalisation.\n",
    "\n",
    "#### Standardisation vs. Normalisation: What's the difference?\n",
    "One of the reasons that it's easy to get confused between standardisation and normalisation is because the terms are sometimes used interchangeably and, to make it even more confusing, they are very similar! In both cases, you're transforming the values of numeric variables so that the transformed data points have specific helpful properties. The difference is that, in standardisation, you're changing the range of your data to have a mean of 0 and a standard deviation of 1, while in normalisation you're changing the range of your data to have a maximum of 1 and a minimum of 0. "
   ],
   "attachments":{
    
   },
   "metadata":{
    "datalore":{
     "node_id":"kcRKiHB8cXzVp6NT47u7mK",
     "type":"MD",
     "hide_input_from_viewers":false,
     "hide_output_from_viewers":false,
     "report_properties":{
      "rowId":"4xMj9FmQfV4StYxzDcYn8A"
     }
    }
   }
  },
  {
   "cell_type":"markdown",
   "source":[
    "#### Standarisation example"
   ],
   "attachments":{
    
   },
   "metadata":{
    "datalore":{
     "node_id":"zQE1NDnb3xSutnkxGnlg3C",
     "type":"MD",
     "hide_input_from_viewers":false,
     "hide_output_from_viewers":false,
     "report_properties":{
      "rowId":"3VNNun9jDwD8aFzudEYQTF"
     }
    }
   }
  },
  {
   "cell_type":"code",
   "source":[
    "# Generate 1000 data points randomly drawn from an normal distribution\n",
    "original_data = np.random.normal(loc=10, scale=5, size = 1000)\n",
    "\n",
    "# Use minmax to standardise the data\n",
    "scaled_data = standardize(original_data, columns = [0])\n",
    "\n",
    "# Plot the orginal and scaled data to compare\n",
    "fig, ax=plt.subplots(1,2)\n",
    "sns.histplot(original_data, ax=ax[0],kde=True)\n",
    "ax[0].set_title(\"Original Data\")\n",
    "sns.histplot(scaled_data, ax=ax[1],kde=True)\n",
    "ax[1].set_title(\"Scaled data\")"
   ],
   "execution_count":13,
   "outputs":[
    {
     "data":{
      "text\/plain":[
       "Text(0.5, 1.0, 'Scaled data')"
      ]
     },
     "metadata":{
      
     },
     "output_type":"display_data"
    },
    {
     "data":{
      "image\/png":"[encoded data removed]"
     },
     "metadata":{
      "image\/png":{
       
      }
     },
     "output_type":"display_data"
    }
   ],
   "metadata":{
    "datalore":{
     "node_id":"w5z9ZagIywA2drPqWVEd4n",
     "type":"CODE",
     "hide_input_from_viewers":false,
     "hide_output_from_viewers":false,
     "report_properties":{
      "rowId":"DVa5SGjusWWVgErFLPZhpJ"
     }
    }
   }
  },
  {
   "cell_type":"markdown",
   "source":[
    "Notice that the standardised data has a mean of 0."
   ],
   "attachments":{
    
   },
   "metadata":{
    "datalore":{
     "node_id":"xos1VuQkrbOOR5SMlyK1VA",
     "type":"MD",
     "hide_input_from_viewers":false,
     "hide_output_from_viewers":false,
     "report_properties":{
      "rowId":"mCBP9XGyNqKXEfg2y8ArpB"
     }
    }
   }
  },
  {
   "cell_type":"markdown",
   "source":[
    "#### Normalisation example"
   ],
   "attachments":{
    
   },
   "metadata":{
    "datalore":{
     "node_id":"zGtxjY732o6dYYr3syXSSM",
     "type":"MD",
     "hide_input_from_viewers":false,
     "hide_output_from_viewers":false,
     "report_properties":{
      "rowId":"EasUCYl06XhhZBPO05LVRt"
     }
    }
   }
  },
  {
   "cell_type":"code",
   "source":[
    "# Generate 1000 data points randomly drawn from an exponential distribution\n",
    "original_data = np.random.exponential(size = 1000)\n",
    "\n",
    "# Use minmax to normalise the data \n",
    "scaled_data = minmax_scaling(original_data, columns = [0])\n",
    "\n",
    "# Plot the orginal and scaled data to compare\n",
    "fig, ax=plt.subplots(1,2)\n",
    "sns.histplot(original_data, ax=ax[0],kde=True)\n",
    "ax[0].set_title(\"Original Data\")\n",
    "sns.histplot(scaled_data, ax=ax[1],kde=True)\n",
    "ax[1].set_title(\"Scaled data\")"
   ],
   "execution_count":14,
   "outputs":[
    {
     "data":{
      "text\/plain":[
       "Text(0.5, 1.0, 'Scaled data')"
      ]
     },
     "metadata":{
      
     },
     "output_type":"display_data"
    },
    {
     "data":{
      "image\/png":"[encoded data removed]"
     },
     "metadata":{
      "image\/png":{
       
      }
     },
     "output_type":"display_data"
    }
   ],
   "metadata":{
    "datalore":{
     "node_id":"HVyydrFAgNwBNpukSUvv7B",
     "type":"CODE",
     "hide_input_from_viewers":false,
     "hide_output_from_viewers":false,
     "report_properties":{
      "rowId":"RcsETZO3V1ESkytSiGJIqS"
     }
    }
   }
  },
  {
   "cell_type":"markdown",
   "source":[
    "Notice that, instead of ranging from 0 to ~8, it now ranges from 0 to 1."
   ],
   "attachments":{
    
   },
   "metadata":{
    "datalore":{
     "node_id":"hMfAfSO6ipuAPXn6yRbSDT",
     "type":"MD",
     "hide_input_from_viewers":false,
     "hide_output_from_viewers":false,
     "report_properties":{
      "rowId":"G8Cr9qQ11LbQUkIY4fPg1C"
     }
    }
   }
  },
  {
   "cell_type":"markdown",
   "source":[
    "## Practice  \n",
    "\n",
    "Practice handing missing data with the \"countries.csv\" dataset which is derived from some World Bank data. Each column is a type of indicator for example EN.ATM.CO2E.PC is carbon dioxide emissions in metric tons per capita. These indicators are recorded for participating countries."
   ],
   "attachments":{
    
   },
   "metadata":{
    "datalore":{
     "node_id":"zZBgDAVODABNNQKmXjlaDY",
     "type":"MD",
     "hide_input_from_viewers":false,
     "hide_output_from_viewers":false,
     "report_properties":{
      "rowId":"IXSkDtJNoESH2J299pF6wB"
     }
    }
   }
  },
  {
   "cell_type":"code",
   "source":[
    "# Load countries data\n",
    "countries = pd.read_csv(\"countries.csv\")\n",
    "\n",
    "countries.head()"
   ],
   "execution_count":15,
   "outputs":[
    {
     "data":{
      "text\/html":[
       "<div>\n",
       "<style scoped>\n",
       "    .dataframe tbody tr th:only-of-type {\n",
       "        vertical-align: middle;\n",
       "    }\n",
       "\n",
       "    .dataframe tbody tr th {\n",
       "        vertical-align: top;\n",
       "    }\n",
       "\n",
       "    .dataframe thead th {\n",
       "        text-align: right;\n",
       "    }\n",
       "<\/style>\n",
       "<table border=\"1\" class=\"dataframe\">\n",
       "  <thead>\n",
       "    <tr style=\"text-align: right;\">\n",
       "      <th><\/th>\n",
       "      <th>Country<\/th>\n",
       "      <th>Country Groups<\/th>\n",
       "      <th>BX.KLT.DINV.WD.GD.ZS<\/th>\n",
       "      <th>EG.ELC.ACCS.ZS<\/th>\n",
       "      <th>EG.FEC.RNEW.ZS<\/th>\n",
       "      <th>EN.ATM.CO2E.PC<\/th>\n",
       "      <th>FP.CPI.TOTL.ZG<\/th>\n",
       "      <th>IT.CEL.SETS.P2<\/th>\n",
       "      <th>IT.NET.USER.ZS<\/th>\n",
       "      <th>NE.EXP.GNFS.ZS<\/th>\n",
       "      <th>...<\/th>\n",
       "      <th>NY.GDP.PCAP.CD<\/th>\n",
       "      <th>SP.DYN.AMRT.FE<\/th>\n",
       "      <th>SP.DYN.AMRT.MA<\/th>\n",
       "      <th>SP.DYN.CBRT.IN<\/th>\n",
       "      <th>SP.DYN.CDRT.IN<\/th>\n",
       "      <th>SP.DYN.IMRT.IN<\/th>\n",
       "      <th>SP.DYN.LE00.IN<\/th>\n",
       "      <th>SP.DYN.TFRT.IN<\/th>\n",
       "      <th>SP.POP.GROW<\/th>\n",
       "      <th>SP.URB.TOTL.IN.ZS<\/th>\n",
       "    <\/tr>\n",
       "  <\/thead>\n",
       "  <tbody>\n",
       "    <tr>\n",
       "      <th>0<\/th>\n",
       "      <td>CEB<\/td>\n",
       "      <td>Central Europe and the Baltics<\/td>\n",
       "      <td>1.555790<\/td>\n",
       "      <td>100.000000<\/td>\n",
       "      <td>14.538355<\/td>\n",
       "      <td>6.820042<\/td>\n",
       "      <td>1.840965<\/td>\n",
       "      <td>122.192106<\/td>\n",
       "      <td>58.599297<\/td>\n",
       "      <td>52.333390<\/td>\n",
       "      <td>...<\/td>\n",
       "      <td>12567.128310<\/td>\n",
       "      <td>77.039930<\/td>\n",
       "      <td>189.578062<\/td>\n",
       "      <td>10.543330<\/td>\n",
       "      <td>11.429917<\/td>\n",
       "      <td>6.019183<\/td>\n",
       "      <td>75.295349<\/td>\n",
       "      <td>1.465325<\/td>\n",
       "      <td>-0.362710<\/td>\n",
       "      <td>62.059417<\/td>\n",
       "    <\/tr>\n",
       "    <tr>\n",
       "      <th>1<\/th>\n",
       "      <td>CSS<\/td>\n",
       "      <td>Caribbean small states<\/td>\n",
       "      <td>4.658176<\/td>\n",
       "      <td>93.114511<\/td>\n",
       "      <td>9.096342<\/td>\n",
       "      <td>9.277109<\/td>\n",
       "      <td>3.250344<\/td>\n",
       "      <td>113.628492<\/td>\n",
       "      <td>35.407690<\/td>\n",
       "      <td>44.935642<\/td>\n",
       "      <td>...<\/td>\n",
       "      <td>8726.326154<\/td>\n",
       "      <td>121.928584<\/td>\n",
       "      <td>200.568068<\/td>\n",
       "      <td>17.555646<\/td>\n",
       "      <td>7.436407<\/td>\n",
       "      <td>18.406085<\/td>\n",
       "      <td>72.252392<\/td>\n",
       "      <td>2.151960<\/td>\n",
       "      <td>0.642147<\/td>\n",
       "      <td>42.083135<\/td>\n",
       "    <\/tr>\n",
       "    <tr>\n",
       "      <th>2<\/th>\n",
       "      <td>EAP<\/td>\n",
       "      <td>East Asia &amp; Pacific (excluding high income)<\/td>\n",
       "      <td>3.796483<\/td>\n",
       "      <td>94.997330<\/td>\n",
       "      <td>16.471817<\/td>\n",
       "      <td>5.106045<\/td>\n",
       "      <td>3.789836<\/td>\n",
       "      <td>69.905604<\/td>\n",
       "      <td>28.957482<\/td>\n",
       "      <td>30.572597<\/td>\n",
       "      <td>...<\/td>\n",
       "      <td>4007.323783<\/td>\n",
       "      <td>91.717833<\/td>\n",
       "      <td>134.835195<\/td>\n",
       "      <td>14.439063<\/td>\n",
       "      <td>7.019396<\/td>\n",
       "      <td>19.100000<\/td>\n",
       "      <td>73.482345<\/td>\n",
       "      <td>1.843869<\/td>\n",
       "      <td>0.713160<\/td>\n",
       "      <td>47.696831<\/td>\n",
       "    <\/tr>\n",
       "    <tr>\n",
       "      <th>3<\/th>\n",
       "      <td>EAR<\/td>\n",
       "      <td>Early-demographic dividend<\/td>\n",
       "      <td>2.073571<\/td>\n",
       "      <td>79.455104<\/td>\n",
       "      <td>26.481427<\/td>\n",
       "      <td>2.119827<\/td>\n",
       "      <td>4.580200<\/td>\n",
       "      <td>68.069446<\/td>\n",
       "      <td>12.835425<\/td>\n",
       "      <td>27.711023<\/td>\n",
       "      <td>...<\/td>\n",
       "      <td>2926.483907<\/td>\n",
       "      <td>150.595639<\/td>\n",
       "      <td>214.978616<\/td>\n",
       "      <td>22.914627<\/td>\n",
       "      <td>7.028941<\/td>\n",
       "      <td>40.042149<\/td>\n",
       "      <td>67.955732<\/td>\n",
       "      <td>2.763140<\/td>\n",
       "      <td>1.534541<\/td>\n",
       "      <td>42.113134<\/td>\n",
       "    <\/tr>\n",
       "    <tr>\n",
       "      <th>4<\/th>\n",
       "      <td>EAS<\/td>\n",
       "      <td>East Asia &amp; Pacific<\/td>\n",
       "      <td>2.930966<\/td>\n",
       "      <td>95.496185<\/td>\n",
       "      <td>13.729447<\/td>\n",
       "      <td>5.701783<\/td>\n",
       "      <td>3.247588<\/td>\n",
       "      <td>73.657018<\/td>\n",
       "      <td>34.269800<\/td>\n",
       "      <td>32.153225<\/td>\n",
       "      <td>...<\/td>\n",
       "      <td>7674.475705<\/td>\n",
       "      <td>86.702958<\/td>\n",
       "      <td>130.465277<\/td>\n",
       "      <td>13.880915<\/td>\n",
       "      <td>7.095146<\/td>\n",
       "      <td>18.136433<\/td>\n",
       "      <td>74.383915<\/td>\n",
       "      <td>1.797065<\/td>\n",
       "      <td>0.675231<\/td>\n",
       "      <td>51.791229<\/td>\n",
       "    <\/tr>\n",
       "  <\/tbody>\n",
       "<\/table>\n",
       "<p>5 rows × 21 columns<\/p>\n",
       "<\/div>"
      ]
     },
     "metadata":{
      
     },
     "output_type":"display_data"
    }
   ],
   "metadata":{
    "datalore":{
     "node_id":"ufaHKsTwLj77J6B5TfH4Uk",
     "type":"CODE",
     "hide_input_from_viewers":false,
     "hide_output_from_viewers":false,
     "report_properties":{
      "rowId":"eG4RlWiF3Jd0VqArCzAne2"
     }
    }
   }
  },
  {
   "cell_type":"code",
   "source":[
    "# Visualise the IT.CEL.SETS.P2 feature. \n",
    "# IT.CEL.SETS.P2 is the mobile cellular subscriptions per 100 people.\n",
    "sns.histplot(countries['IT.CEL.SETS.P2'])"
   ],
   "execution_count":17,
   "outputs":[
    {
     "data":{
      "text\/plain":[
       "<Axes: xlabel='IT.CEL.SETS.P2', ylabel='Count'>"
      ]
     },
     "metadata":{
      
     },
     "output_type":"display_data"
    },
    {
     "data":{
      "image\/png":"[encoded data removed]"
     },
     "metadata":{
      "image\/png":{
       
      }
     },
     "output_type":"display_data"
    }
   ],
   "metadata":{
    "datalore":{
     "node_id":"2d9rYPvZMg94hcHTw0UXvD",
     "type":"CODE",
     "hide_input_from_viewers":false,
     "hide_output_from_viewers":false,
     "report_properties":{
      "rowId":"JshfXrQ0l1wlgbba7rIH9C"
     }
    }
   }
  },
  {
   "cell_type":"code",
   "source":[
    "# Scale the data using normalisation since the data does not have a Gaussian (normal) distribution. \n",
    "scaled_data = minmax_scaling(countries['IT.CEL.SETS.P2'], columns = [0])\n",
    "\n",
    "# Visualise scaled and original data to compare\n",
    "fig, ax=plt.subplots(1,2)\n",
    "sns.histplot(countries['IT.CEL.SETS.P2'], ax=ax[0],kde=True)\n",
    "ax[0].set_title(\"Original Data\")\n",
    "sns.histplot(scaled_data, ax=ax[1],kde=True)\n",
    "ax[1].set_title(\"Scaled data\")"
   ],
   "execution_count":19,
   "outputs":[
    {
     "name":"stderr",
     "text":[
      "\/opt\/python\/envs\/default\/lib\/python3.8\/site-packages\/mlxtend\/preprocessing\/scaling.py:40: FutureWarning: Support for multi-dimensional indexing (e.g. `obj[:, None]`) is deprecated and will be removed in a future version.  Convert to a numpy array before indexing instead.\n",
      "  ary_new = ary_new[:, np.newaxis]\n"
     ],
     "output_type":"stream"
    },
    {
     "data":{
      "text\/plain":[
       "Text(0.5, 1.0, 'Scaled data')"
      ]
     },
     "metadata":{
      
     },
     "output_type":"display_data"
    },
    {
     "data":{
      "image\/png":"[encoded data removed]"
     },
     "metadata":{
      "image\/png":{
       
      }
     },
     "output_type":"display_data"
    }
   ],
   "metadata":{
    "datalore":{
     "node_id":"GWVnCfk6DdcU7PRhRvHeJk",
     "type":"CODE",
     "hide_input_from_viewers":false,
     "hide_output_from_viewers":false,
     "report_properties":{
      "rowId":"AhMOMnoQzatAcIeM4P7LQo"
     }
    }
   }
  },
  {
   "cell_type":"markdown",
   "source":[
    "## Compulsory Tasks"
   ],
   "attachments":{
    
   },
   "metadata":{
    "datalore":{
     "node_id":"vip7lNniWYWI59JbBQzdmk",
     "type":"MD",
     "hide_input_from_viewers":false,
     "hide_output_from_viewers":false,
     "report_properties":{
      "rowId":"WnCDdBhhvuhNNdJAHE5z6i"
     }
    }
   }
  },
  {
   "cell_type":"markdown",
   "source":[
    "### Compulsory Task 1"
   ],
   "attachments":{
    
   },
   "metadata":{
    "datalore":{
     "node_id":"BcHmP3FKKH03BCkkoj6TmR",
     "type":"MD",
     "hide_input_from_viewers":false,
     "hide_output_from_viewers":false,
     "report_properties":{
      "rowId":"24ENZ7Hx0qapK1DY0lSRJY"
     }
    }
   }
  },
  {
   "cell_type":"code",
   "source":[
    "# 1. Read in store_income_task.csv\n",
    "\n",
    "df = pd.read_csv('store_income_data_task.csv')\n",
    "\n",
    "# 2. Display the first 5 observations\n",
    "\n",
    "df.sample(25)"
   ],
   "execution_count":21,
   "outputs":[
    {
     "data":{
      "text\/html":[
       "<div>\n",
       "<style scoped>\n",
       "    .dataframe tbody tr th:only-of-type {\n",
       "        vertical-align: middle;\n",
       "    }\n",
       "\n",
       "    .dataframe tbody tr th {\n",
       "        vertical-align: top;\n",
       "    }\n",
       "\n",
       "    .dataframe thead th {\n",
       "        text-align: right;\n",
       "    }\n",
       "<\/style>\n",
       "<table border=\"1\" class=\"dataframe\">\n",
       "  <thead>\n",
       "    <tr style=\"text-align: right;\">\n",
       "      <th><\/th>\n",
       "      <th>id<\/th>\n",
       "      <th>store_name<\/th>\n",
       "      <th>store_email<\/th>\n",
       "      <th>department<\/th>\n",
       "      <th>income<\/th>\n",
       "      <th>date_measured<\/th>\n",
       "      <th>country<\/th>\n",
       "    <\/tr>\n",
       "  <\/thead>\n",
       "  <tbody>\n",
       "    <tr>\n",
       "      <th>652<\/th>\n",
       "      <td>653<\/td>\n",
       "      <td>B Communications Ltd.<\/td>\n",
       "      <td>NaN<\/td>\n",
       "      <td>Industrial<\/td>\n",
       "      <td>$67606372.64<\/td>\n",
       "      <td>13-8-2013<\/td>\n",
       "      <td>SA<\/td>\n",
       "    <\/tr>\n",
       "    <tr>\n",
       "      <th>675<\/th>\n",
       "      <td>676<\/td>\n",
       "      <td>Milacron Holdings Corp.<\/td>\n",
       "      <td>NaN<\/td>\n",
       "      <td>Health<\/td>\n",
       "      <td>$43272675.23<\/td>\n",
       "      <td>8-4-1996<\/td>\n",
       "      <td>Britain<\/td>\n",
       "    <\/tr>\n",
       "    <tr>\n",
       "      <th>981<\/th>\n",
       "      <td>982<\/td>\n",
       "      <td>American International Group, Inc.<\/td>\n",
       "      <td>NaN<\/td>\n",
       "      <td>Outdoors<\/td>\n",
       "      <td>$64794322.43<\/td>\n",
       "      <td>5-6-2009<\/td>\n",
       "      <td>united kingdom<\/td>\n",
       "    <\/tr>\n",
       "    <tr>\n",
       "      <th>663<\/th>\n",
       "      <td>664<\/td>\n",
       "      <td>Southern Company (The)<\/td>\n",
       "      <td>ebrabantif@stumbleupon.com<\/td>\n",
       "      <td>NaN<\/td>\n",
       "      <td>$52714073.41<\/td>\n",
       "      <td>2-4-2006<\/td>\n",
       "      <td>Britain<\/td>\n",
       "    <\/tr>\n",
       "    <tr>\n",
       "      <th>247<\/th>\n",
       "      <td>248<\/td>\n",
       "      <td>Medallion Financial Corp.<\/td>\n",
       "      <td>dpillifant6v@4shared.com<\/td>\n",
       "      <td>Jewelry<\/td>\n",
       "      <td>$64537013.88<\/td>\n",
       "      <td>12-11-2005<\/td>\n",
       "      <td>United States\/<\/td>\n",
       "    <\/tr>\n",
       "    <tr>\n",
       "      <th>530<\/th>\n",
       "      <td>531<\/td>\n",
       "      <td>Bassett Furniture Industries, Incorporated<\/td>\n",
       "      <td>NaN<\/td>\n",
       "      <td>Games<\/td>\n",
       "      <td>$32516901.46<\/td>\n",
       "      <td>16-11-2000<\/td>\n",
       "      <td>United States of America\/<\/td>\n",
       "    <\/tr>\n",
       "    <tr>\n",
       "      <th>112<\/th>\n",
       "      <td>113<\/td>\n",
       "      <td>Infinity Pharmaceuticals, Inc.<\/td>\n",
       "      <td>NaN<\/td>\n",
       "      <td>Tools<\/td>\n",
       "      <td>$82226912.36<\/td>\n",
       "      <td>15-11-2010<\/td>\n",
       "      <td>NaN<\/td>\n",
       "    <\/tr>\n",
       "    <tr>\n",
       "      <th>373<\/th>\n",
       "      <td>374<\/td>\n",
       "      <td>Versartis, Inc.<\/td>\n",
       "      <td>NaN<\/td>\n",
       "      <td>Health<\/td>\n",
       "      <td>$48754395.04<\/td>\n",
       "      <td>15-7-1986<\/td>\n",
       "      <td>Britain<\/td>\n",
       "    <\/tr>\n",
       "    <tr>\n",
       "      <th>279<\/th>\n",
       "      <td>280<\/td>\n",
       "      <td>BCE, Inc.<\/td>\n",
       "      <td>NaN<\/td>\n",
       "      <td>Electronics<\/td>\n",
       "      <td>$12744409.82<\/td>\n",
       "      <td>15-9-2005<\/td>\n",
       "      <td>United States<\/td>\n",
       "    <\/tr>\n",
       "    <tr>\n",
       "      <th>370<\/th>\n",
       "      <td>371<\/td>\n",
       "      <td>CyberArk Software Ltd.<\/td>\n",
       "      <td>amawtusaa@nature.com<\/td>\n",
       "      <td>Movies<\/td>\n",
       "      <td>$63948129.39<\/td>\n",
       "      <td>18-11-2006<\/td>\n",
       "      <td>.<\/td>\n",
       "    <\/tr>\n",
       "    <tr>\n",
       "      <th>115<\/th>\n",
       "      <td>116<\/td>\n",
       "      <td>Exterran Corporation<\/td>\n",
       "      <td>apetyankin37@google.es<\/td>\n",
       "      <td>Baby<\/td>\n",
       "      <td>$45080944.24<\/td>\n",
       "      <td>22-5-1999<\/td>\n",
       "      <td>England.<\/td>\n",
       "    <\/tr>\n",
       "    <tr>\n",
       "      <th>811<\/th>\n",
       "      <td>812<\/td>\n",
       "      <td>Fox Factory Holding Corp.<\/td>\n",
       "      <td>hcapsmj@theatlantic.com<\/td>\n",
       "      <td>Automotive<\/td>\n",
       "      <td>$9063314.32<\/td>\n",
       "      <td>24-7-1989<\/td>\n",
       "      <td>Britain<\/td>\n",
       "    <\/tr>\n",
       "    <tr>\n",
       "      <th>295<\/th>\n",
       "      <td>296<\/td>\n",
       "      <td>Blackrock Enhanced Equity Dividend Trust<\/td>\n",
       "      <td>kprattin87@unc.edu<\/td>\n",
       "      <td>Computers<\/td>\n",
       "      <td>$8410018.41<\/td>\n",
       "      <td>20-12-1999<\/td>\n",
       "      <td>Britain.<\/td>\n",
       "    <\/tr>\n",
       "    <tr>\n",
       "      <th>457<\/th>\n",
       "      <td>458<\/td>\n",
       "      <td>EnteroMedics Inc.<\/td>\n",
       "      <td>NaN<\/td>\n",
       "      <td>Shoes<\/td>\n",
       "      <td>$30381657.10<\/td>\n",
       "      <td>8-10-1993<\/td>\n",
       "      <td>UK<\/td>\n",
       "    <\/tr>\n",
       "    <tr>\n",
       "      <th>952<\/th>\n",
       "      <td>953<\/td>\n",
       "      <td>Diana Shipping inc.<\/td>\n",
       "      <td>NaN<\/td>\n",
       "      <td>Beauty<\/td>\n",
       "      <td>$33214994.31<\/td>\n",
       "      <td>15-11-1992<\/td>\n",
       "      <td>United States<\/td>\n",
       "    <\/tr>\n",
       "    <tr>\n",
       "      <th>634<\/th>\n",
       "      <td>635<\/td>\n",
       "      <td>Social Reality, Inc.<\/td>\n",
       "      <td>zhaughtonhm@adobe.com<\/td>\n",
       "      <td>Grocery<\/td>\n",
       "      <td>$25278913.71<\/td>\n",
       "      <td>15-9-2001<\/td>\n",
       "      <td>United Kingdom\/<\/td>\n",
       "    <\/tr>\n",
       "    <tr>\n",
       "      <th>434<\/th>\n",
       "      <td>435<\/td>\n",
       "      <td>Inovalon Holdings, Inc.<\/td>\n",
       "      <td>djoec2@patch.com<\/td>\n",
       "      <td>Music<\/td>\n",
       "      <td>$58626972.96<\/td>\n",
       "      <td>10-10-2012<\/td>\n",
       "      <td>United Kingdom<\/td>\n",
       "    <\/tr>\n",
       "    <tr>\n",
       "      <th>120<\/th>\n",
       "      <td>121<\/td>\n",
       "      <td>VelocityShares 3x Inverse Gold ETN<\/td>\n",
       "      <td>sknibbs3c@irs.gov<\/td>\n",
       "      <td>Games<\/td>\n",
       "      <td>$20989721.85<\/td>\n",
       "      <td>5-8-2011<\/td>\n",
       "      <td>England\/<\/td>\n",
       "    <\/tr>\n",
       "    <tr>\n",
       "      <th>533<\/th>\n",
       "      <td>534<\/td>\n",
       "      <td>Yangtze River Development Limited<\/td>\n",
       "      <td>lmargramet@wikispaces.com<\/td>\n",
       "      <td>Electronics<\/td>\n",
       "      <td>$49155108.68<\/td>\n",
       "      <td>7-10-1993<\/td>\n",
       "      <td>Britain.<\/td>\n",
       "    <\/tr>\n",
       "    <tr>\n",
       "      <th>797<\/th>\n",
       "      <td>798<\/td>\n",
       "      <td>WellCare Health Plans, Inc.<\/td>\n",
       "      <td>fkermonm5@wix.com<\/td>\n",
       "      <td>Kids<\/td>\n",
       "      <td>$19049790.02<\/td>\n",
       "      <td>2-8-2011<\/td>\n",
       "      <td>S. AfricaSouth Africa<\/td>\n",
       "    <\/tr>\n",
       "    <tr>\n",
       "      <th>497<\/th>\n",
       "      <td>498<\/td>\n",
       "      <td>Aware, Inc.<\/td>\n",
       "      <td>NaN<\/td>\n",
       "      <td>Industrial<\/td>\n",
       "      <td>$3265105.35<\/td>\n",
       "      <td>12-2-1989<\/td>\n",
       "      <td>S. AFRICASOUTH AFRICA<\/td>\n",
       "    <\/tr>\n",
       "    <tr>\n",
       "      <th>407<\/th>\n",
       "      <td>408<\/td>\n",
       "      <td>GTT Communications, Inc.<\/td>\n",
       "      <td>NaN<\/td>\n",
       "      <td>Movies<\/td>\n",
       "      <td>$82216383.24<\/td>\n",
       "      <td>7-12-2009<\/td>\n",
       "      <td>s.a.<\/td>\n",
       "    <\/tr>\n",
       "    <tr>\n",
       "      <th>138<\/th>\n",
       "      <td>139<\/td>\n",
       "      <td>Marcus &amp; Millichap, Inc.<\/td>\n",
       "      <td>NaN<\/td>\n",
       "      <td>Electronics<\/td>\n",
       "      <td>$43995798.14<\/td>\n",
       "      <td>23-1-2004<\/td>\n",
       "      <td>United Kingdom<\/td>\n",
       "    <\/tr>\n",
       "    <tr>\n",
       "      <th>39<\/th>\n",
       "      <td>40<\/td>\n",
       "      <td>First Potomac Realty Trust<\/td>\n",
       "      <td>bglossup13@usnews.com<\/td>\n",
       "      <td>Tools<\/td>\n",
       "      <td>$5665154.91<\/td>\n",
       "      <td>22-4-1997<\/td>\n",
       "      <td>SA\/<\/td>\n",
       "    <\/tr>\n",
       "    <tr>\n",
       "      <th>72<\/th>\n",
       "      <td>73<\/td>\n",
       "      <td>Kirkland's, Inc.<\/td>\n",
       "      <td>NaN<\/td>\n",
       "      <td>Clothing<\/td>\n",
       "      <td>$12621170.22<\/td>\n",
       "      <td>15-1-1970<\/td>\n",
       "      <td>America\/<\/td>\n",
       "    <\/tr>\n",
       "  <\/tbody>\n",
       "<\/table>\n",
       "<\/div>"
      ]
     },
     "metadata":{
      
     },
     "output_type":"display_data"
    }
   ],
   "metadata":{
    "datalore":{
     "node_id":"lEOR25m1NLHU978xMsyXRI",
     "type":"CODE",
     "hide_input_from_viewers":false,
     "hide_output_from_viewers":false,
     "report_properties":{
      "rowId":"r8dH5kXC7xLEtPCTs9X1vU"
     }
    }
   }
  },
  {
   "cell_type":"code",
   "source":[
    "# 3. Get the number of missing data points per column\n",
    "missing_values_count = df.isnull().sum()\n",
    "missing_values_count\n",
    "\n",
    "\n",
    "# 4. Identify the number of missing values in the first ten columns\n",
    "\n",
    "missing_values_count[0:10]"
   ],
   "execution_count":23,
   "outputs":[
    {
     "data":{
      "text\/html":[
       "<pre>id                 0\n",
       "store_name         0\n",
       "store_email      587\n",
       "department        27\n",
       "income             0\n",
       "date_measured      0\n",
       "country           35\n",
       "dtype: int64<\/pre>"
      ]
     },
     "metadata":{
      
     },
     "output_type":"display_data"
    }
   ],
   "metadata":{
    "datalore":{
     "node_id":"L9SmTiX9nsOT0Vpy61Mij2",
     "type":"CODE",
     "hide_input_from_viewers":false,
     "hide_output_from_viewers":false,
     "report_properties":{
      "rowId":"DL8PA7cpgCUJQ5LtWOAmQF"
     }
    }
   }
  },
  {
   "cell_type":"markdown",
   "source":[
    "5. Write a note on why you think we have missing data for the following three columns: store_email,  department, and country. Remember to classify them according to the three categories(types of missingness) we analysed in the task."
   ],
   "attachments":{
    
   },
   "metadata":{
    "datalore":{
     "node_id":"veeAiCxLeM1latV6NyFgR2",
     "type":"MD",
     "hide_input_from_viewers":false,
     "hide_output_from_viewers":false,
     "report_properties":{
      "rowId":"S54SJ5SF6As2Augoz5kreI"
     }
    }
   }
  },
  {
   "cell_type":"markdown",
   "source":[
    "**Answer here:** \n",
    "\n",
    "Missing data in the **store_email column** is likely due to mistakes or omissions at entry. This data is missing completely at random (MCAR) because the information is not related to any other variable in or outside the data set so cannot be predicted. \n",
    "\n",
    "Missing data in the **department** column could be due to omission at entry or perhaps there are classification failure. This data is missing at random (MAR) because it can be connected to other data in the column. \n",
    "\n",
    "Missing data in the **country** column may also be due to omissions or classification failure. This data is missing at random (MNAR) because it could be connected to other trends that are not included in the dataset."
   ],
   "attachments":{
    
   },
   "metadata":{
    "datalore":{
     "node_id":"QM974yuoeKaqBAWhuuAgQj",
     "type":"MD",
     "hide_input_from_viewers":false,
     "hide_output_from_viewers":false,
     "report_properties":{
      "rowId":"iGSWghXJXodOiyJ4HYsmVC"
     }
    }
   }
  },
  {
   "cell_type":"markdown",
   "source":[
    "### Compulsory Task 2"
   ],
   "attachments":{
    
   },
   "metadata":{
    "datalore":{
     "node_id":"cS3GgS1839d2VbODy39FC9",
     "type":"MD",
     "hide_input_from_viewers":false,
     "hide_output_from_viewers":false,
     "report_properties":{
      "rowId":"ll7wygTirE2TRwm2FnxXnO"
     }
    }
   }
  },
  {
   "cell_type":"markdown",
   "source":[
    "1. For the following example, decide whether standardisation or normalisation makes more sense. \n",
    "\n",
    "  a. You want to build a linear regression model to predict someone's grades, given how much time they spend on various activities during a typical school week.  You notice that your measurements for how much time students spend studying aren't normally distributed: some students spend almost no time studying, while others study for four or more hours daily. Should you standardise or normalise this variable?  \n",
    "\n",
    "  b. You're still working with your student's grades, but you want to include information on how students perform on several fitness tests as well. You have information on how many jumping jacks and push-ups each student can complete in a minute. However, you notice that students perform far more jumping jacks than push-ups: the average for the former is 40, and for the latter only 10. Should you standardise or normalise these variables?"
   ],
   "attachments":{
    
   },
   "metadata":{
    "datalore":{
     "node_id":"r48hCTT2rpZf27BFSYpRLL",
     "type":"MD",
     "hide_input_from_viewers":false,
     "hide_output_from_viewers":false,
     "report_properties":{
      "rowId":"4CHsuXBWrjA8FVIjWEamRl"
     }
    }
   }
  },
  {
   "cell_type":"markdown",
   "source":[
    "**Answer here:**  \n",
    "\n",
    "a. Normalisation to bring the results into a manageable range between 0 and 1. \n",
    "\n",
    "b. Standardisation to bring the results into a comparable state. "
   ],
   "attachments":{
    
   },
   "metadata":{
    "datalore":{
     "node_id":"v2ZqqzR09nHxHTQukQ073U",
     "type":"MD",
     "hide_input_from_viewers":false,
     "hide_output_from_viewers":false,
     "report_properties":{
      "rowId":"0YHdGc3Fg435Igbw8LaZhP"
     }
    }
   }
  },
  {
   "cell_type":"code",
   "source":[
    "# 2. From the countries dataset, visualise the \"EG.ELC.ACCS.ZS\" column using a histogram. \n",
    "df = pd.read_csv('countries.csv')\n",
    "percentage_with_electricity = df[\"EG.ELC.ACCS.ZS\"]\n",
    "sns.histplot(percentage_with_electricity)\n",
    "\n",
    "# Then, scale the column using the appropriate scaling method (normalisation or standardisaton).\n",
    "scaled_data = minmax_scaling(percentage_with_electricity, columns=[0])\n",
    "\n",
    "# Finally, visualise the original and scaled data alongside each other. \n",
    "fig, ax=plt.subplots(1,2)\n",
    "sns.histplot(percentage_with_electricity, ax=ax[0],kde=True)\n",
    "ax[0].set_title(\"Original Data\")\n",
    "sns.histplot(scaled_data, ax=ax[1],kde=True)\n",
    "ax[1].set_title(\"Scaled data\")\n",
    "\n",
    "# Note EG.ELC.ACCS.ZS is the percentage of the population with access to electricity.\n"
   ],
   "execution_count":6,
   "outputs":[
    {
     "name":"stderr",
     "text":[
      "\/opt\/python\/envs\/default\/lib\/python3.8\/site-packages\/mlxtend\/preprocessing\/scaling.py:40: FutureWarning: Support for multi-dimensional indexing (e.g. `obj[:, None]`) is deprecated and will be removed in a future version.  Convert to a numpy array before indexing instead.\n",
      "  ary_new = ary_new[:, np.newaxis]\n"
     ],
     "output_type":"stream"
    },
    {
     "data":{
      "text\/plain":[
       "Text(0.5, 1.0, 'Scaled data')"
      ]
     },
     "metadata":{
      
     },
     "output_type":"display_data"
    },
    {
     "data":{
      "image\/png":"[encoded data removed]"
     },
     "metadata":{
      "image\/png":{
       
      }
     },
     "output_type":"display_data"
    },
    {
     "data":{
      "image\/png":"[encoded data removed]"
     },
     "metadata":{
      "image\/png":{
       
      }
     },
     "output_type":"display_data"
    }
   ],
   "metadata":{
    "datalore":{
     "node_id":"7Cu6SWEkDHHvh7BIwn4zf9",
     "type":"CODE",
     "hide_input_from_viewers":false,
     "hide_output_from_viewers":false,
     "report_properties":{
      "rowId":"sEnwymlHzHiynSqTpGoLSS"
     }
    }
   }
  }
 ],
 "metadata":{
  "kernelspec":{
   "display_name":"Python",
   "language":"python",
   "name":"python"
  },
  "datalore":{
   "computation_mode":"JUPYTER",
   "package_manager":"pip",
   "base_environment":"default",
   "packages":[
    {
     "name":"mlxtend",
     "version":"0.23.0",
     "source":"PIP"
    }
   ],
   "report_row_ids":[
    "9e21OnvDDNa4brGWZGrXzJ",
    "EMa5eWkwNoS9e4Seb56m7p",
    "QX38AymndMqWu3U8A8MkN4",
    "N0ZouEqWtMEoBCnAvdSaXU",
    "gPvxdVz1gb2emBnRrVc4UQ",
    "L3yam3zz5oxwMM8R6Z9kWa",
    "Gyvx67TiWSRJN1gzcxbe3j",
    "Bkzb6tbpA5sI6rxHe7aIzf",
    "MmMpZhAR5PlDqz9biZnm0x",
    "4eQQBaGXKOTQ3nagwVEvo3",
    "NkrxZbSalZWinloIxqLOgb",
    "BvayjjcCZ2H3Ga6ivHtvjD",
    "cWWfJxHrgaULzi5vrBVqPE",
    "iWwbTHVGM308AXpvEx46wg",
    "9pR9XwzDcYJ6pA4Eh6vjAi",
    "LU3yzGsnLhmsAGzG3iSS7P",
    "Rh0PLuzxEvMeVYxhuscHu4",
    "99Y0dMK394VrEkw1ZFEDTi",
    "PVnAJlYdffHH9ApeKRy5dw",
    "gK69N1fRdxaCjCPMbhmvY6",
    "wXhGh3uhwtz1q9lme1veLE",
    "4xMj9FmQfV4StYxzDcYn8A",
    "3VNNun9jDwD8aFzudEYQTF",
    "DVa5SGjusWWVgErFLPZhpJ",
    "mCBP9XGyNqKXEfg2y8ArpB",
    "EasUCYl06XhhZBPO05LVRt",
    "RcsETZO3V1ESkytSiGJIqS",
    "G8Cr9qQ11LbQUkIY4fPg1C",
    "IXSkDtJNoESH2J299pF6wB",
    "eG4RlWiF3Jd0VqArCzAne2",
    "JshfXrQ0l1wlgbba7rIH9C",
    "AhMOMnoQzatAcIeM4P7LQo",
    "WnCDdBhhvuhNNdJAHE5z6i",
    "24ENZ7Hx0qapK1DY0lSRJY",
    "r8dH5kXC7xLEtPCTs9X1vU",
    "DL8PA7cpgCUJQ5LtWOAmQF",
    "S54SJ5SF6As2Augoz5kreI",
    "iGSWghXJXodOiyJ4HYsmVC",
    "ll7wygTirE2TRwm2FnxXnO",
    "4CHsuXBWrjA8FVIjWEamRl",
    "0YHdGc3Fg435Igbw8LaZhP",
    "sEnwymlHzHiynSqTpGoLSS"
   ],
   "version":3
  }
 },
 "nbformat":4,
 "nbformat_minor":4
}